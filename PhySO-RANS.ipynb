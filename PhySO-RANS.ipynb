{
 "cells": [
  {
   "cell_type": "markdown",
   "id": "1c819057-4781-4cfc-8d55-e3dcbc33687d",
   "metadata": {
    "pycharm": {
     "name": "#%% md\n"
    },
    "tags": []
   },
   "source": [
    "# PhySO-RANS"
   ]
  },
  {
   "cell_type": "code",
   "execution_count": 1,
   "id": "7e3ee9d9-c786-4583-aa32-2fbc65584009",
   "metadata": {
    "pycharm": {
     "name": "#%%\n"
    }
   },
   "outputs": [],
   "source": [
    "# External packages\n",
    "import os\n",
    "import torch\n",
    "import numpy as np\n",
    "\n",
    "# Pyplot\n",
    "import matplotlib.pyplot as plt\n",
    "\n",
    "# Internal code import\n",
    "import physo\n",
    "from physo.learn import monitoring\n",
    "from physo.task  import benchmark"
   ]
  },
  {
   "cell_type": "code",
   "execution_count": 2,
   "id": "6b52eaea-6ca2-4d3e-a846-2eedcd932e56",
   "metadata": {
    "pycharm": {
     "name": "#%%\n"
    }
   },
   "outputs": [
    {
     "name": "stdout",
     "output_type": "stream",
     "text": [
      "cpu\n"
     ]
    }
   ],
   "source": [
    "# Device\n",
    "DEVICE = 'cpu'\n",
    "if torch.cuda.is_available():\n",
    "    DEVICE = 'cuda'\n",
    "print(DEVICE)"
   ]
  },
  {
   "cell_type": "code",
   "execution_count": 3,
   "id": "c6936aec",
   "metadata": {},
   "outputs": [
    {
     "data": {
      "text/plain": [
       "<torch._C.Generator at 0x7f31bb4b9d90>"
      ]
     },
     "execution_count": 3,
     "metadata": {},
     "output_type": "execute_result"
    }
   ],
   "source": [
    "# Seed\n",
    "seed = 42\n",
    "np.random.seed(seed)\n",
    "torch.manual_seed(seed)"
   ]
  },
  {
   "cell_type": "markdown",
   "id": "91946a7e-e7dd-446b-9de9-101c930e82ce",
   "metadata": {
    "pycharm": {
     "name": "#%% md\n"
    }
   },
   "source": [
    "## Preparing dataset"
   ]
  },
  {
   "cell_type": "code",
   "execution_count": 4,
   "id": "a5f9da7d",
   "metadata": {},
   "outputs": [],
   "source": [
    "H = 1.  # Reference height\n",
    "nu = 5e-06 # Dynamic viscosity\n",
    "\n",
    "# Index of the 4 independent Reynolds stress components\n",
    "index = [0, 1, 4, 8]"
   ]
  },
  {
   "cell_type": "code",
   "execution_count": null,
   "id": "a26d5e9b",
   "metadata": {},
   "outputs": [],
   "source": [
    "# Load the dataset\n",
    "X = np.load('dataset/q.npy')\n",
    "y = np.load('dataset/deltaTau.npy')"
   ]
  },
  {
   "cell_type": "markdown",
   "id": "685c3242-6792-4e59-8a6b-1f472de172ff",
   "metadata": {},
   "source": [
    "#### Sending data to device"
   ]
  },
  {
   "cell_type": "code",
   "execution_count": null,
   "id": "ca6b2f73-80c3-4f55-9866-f0297b81087f",
   "metadata": {
    "pycharm": {
     "name": "#%%\n"
    }
   },
   "outputs": [],
   "source": [
    "# ------ Vectors ------\n",
    "# Stack of all input variables\n",
    "X = torch.tensor(X).to(DEVICE)\n",
    "# Output of symbolic function to guess\n",
    "y = torch.tensor(y).to(DEVICE)"
   ]
  },
  {
   "cell_type": "markdown",
   "id": "058939ea-1550-4f41-87cf-a6d879d51102",
   "metadata": {
    "pycharm": {
     "name": "#%% md\n"
    }
   },
   "source": [
    "## Run config"
   ]
  },
  {
   "cell_type": "markdown",
   "id": "07990a3b-14c5-4c4a-b54a-908f7cb259d4",
   "metadata": {
    "pycharm": {
     "name": "#%% md\n"
    }
   },
   "source": [
    "### Library config"
   ]
  },
  {
   "cell_type": "code",
   "execution_count": null,
   "id": "f8666ce1-dfb1-4ee9-8695-2bcb76f26e7b",
   "metadata": {
    "pycharm": {
     "name": "#%%\n"
    }
   },
   "outputs": [],
   "source": [
    "args_make_tokens = {\n",
    "                # operations\n",
    "                \"op_names\"             : [\"add\", \"sub\", \"mul\", \"div\", \"n2\",], \n",
    "                \"use_protected_ops\"    : False, \n",
    "                # input variables\n",
    "                \"input_var_ids\"        : {\"q1\" : 0         , \"q2\": 1         , \"q3\": 2         , \"q4\": 3         , \"q5\": 4         , \"q6\": 5          , \"q7\": 6           , \"q8\": 7           , },\n",
    "                \"input_var_units\"      : {\"q1\" : [0, 0, -2], \"q2\": [0, 2, -2], \"q3\": [0, 0, 0] , \"q4\": [0, 2, -3], \"q5\": [0, 0, 1] , \"q6\": [0, 1, -2] , \"q7\": [0, 2, -3]  , \"q8\": [0, 2, -3]  , }, # [M L T]\n",
    "                \"input_var_complexity\" : {\"q1\" : 1.        , \"q2\": 1.        , \"q3\": 1.        , \"q4\": 1.        , \"q5\": 1.        , \"q6\": 1.         , \"q7\": 1.          , \"q8\": 1.          , },\n",
    "                # # constants\n",
    "                # \"constants\"            : {\"rho\" : rho        , },\n",
    "                # \"constants_units\"      : {\"rho\" : [1, -3, 0] , },\n",
    "                # \"constants_complexity\" : {\"rho\" : 1.         , },\n",
    "                # free constants\n",
    "                \"free_constants\"            : {\"c\"              , },\n",
    "                \"free_constants_init_val\"   : {\"c\" : 1.         , },\n",
    "                \"free_constants_units\"      : {\"c\" : [0, 0, 0]  , },\n",
    "                \"free_constants_complexity\" : {\"c\" : 1.         , },\n",
    "                    }\n",
    "\n",
    "library_config = {\"args_make_tokens\"  : args_make_tokens,\n",
    "                  \"superparent_units\" : [0, 2, -2],\n",
    "                  \"superparent_name\"  : \"y\",\n",
    "                }\n",
    "\n",
    "                "
   ]
  },
  {
   "cell_type": "markdown",
   "id": "e4711b53",
   "metadata": {
    "pycharm": {
     "name": "#%% md\n"
    }
   },
   "source": [
    "### Learning config"
   ]
  },
  {
   "cell_type": "code",
   "execution_count": null,
   "id": "68f51b4b",
   "metadata": {
    "collapsed": false,
    "jupyter": {
     "outputs_hidden": false
    },
    "pycharm": {
     "name": "#%%\n"
    }
   },
   "outputs": [],
   "source": [
    "reward_config = {\n",
    "                 \"reward_function\"     : physo.physym.reward.SquashedNRMSE, # PHYSICALITY\n",
    "                 \"zero_out_unphysical\" : True,\n",
    "                 \"zero_out_duplicates\" : False,\n",
    "                 \"keep_lowest_complexity_duplicate\" : False,\n",
    "                 \"parallel_mode\" : False,\n",
    "                 \"n_cpus\"        : 12,\n",
    "                }"
   ]
  },
  {
   "cell_type": "code",
   "execution_count": null,
   "id": "ff943989",
   "metadata": {
    "collapsed": false,
    "jupyter": {
     "outputs_hidden": false
    },
    "pycharm": {
     "name": "#%%\n"
    }
   },
   "outputs": [],
   "source": [
    "BATCH_SIZE = int(1e4)\n",
    "MAX_LENGTH = 15\n",
    "GET_OPTIMIZER = lambda model : torch.optim.Adam(\n",
    "                                    model.parameters(),                \n",
    "                                    lr=1e-4, #0.001, #0.0050, #0.0005, #1,  #lr=0.0025\n",
    "                                                )"
   ]
  },
  {
   "cell_type": "code",
   "execution_count": null,
   "id": "a8c12168",
   "metadata": {
    "collapsed": false,
    "jupyter": {
     "outputs_hidden": false
    },
    "pycharm": {
     "name": "#%%\n"
    }
   },
   "outputs": [],
   "source": [
    "learning_config = {\n",
    "    # Batch related\n",
    "    'batch_size'       : BATCH_SIZE,\n",
    "    'max_time_step'    : MAX_LENGTH,\n",
    "    'n_epochs'         : 100,\n",
    "    # Loss related\n",
    "    'gamma_decay'      : 0.7,\n",
    "    'entropy_weight'   : 0.005,\n",
    "    # Reward related\n",
    "    'risk_factor'      : 0.05,\n",
    "    'rewards_computer' : physo.physym.reward.make_RewardsComputer (**reward_config),\n",
    "    # Optimizer\n",
    "    'get_optimizer'    : GET_OPTIMIZER,\n",
    "    'observe_units'    : True,\n",
    "}"
   ]
  },
  {
   "cell_type": "markdown",
   "id": "b5991694",
   "metadata": {
    "pycharm": {
     "name": "#%% md\n"
    }
   },
   "source": [
    "### Free constant optimizer config"
   ]
  },
  {
   "cell_type": "code",
   "execution_count": null,
   "id": "61b59d31",
   "metadata": {
    "collapsed": false,
    "jupyter": {
     "outputs_hidden": false
    },
    "pycharm": {
     "name": "#%%\n"
    }
   },
   "outputs": [],
   "source": [
    "free_const_opti_args = {\n",
    "            'loss'   : \"MSE\",\n",
    "            'method' : 'LBFGS',\n",
    "            'method_args': {\n",
    "                        'n_steps' : 15,\n",
    "                        'tol'     : 1e-8,\n",
    "                        'lbfgs_func_args' : {\n",
    "                            'max_iter'       : 4,\n",
    "                            'line_search_fn' : \"strong_wolfe\",\n",
    "                                             },\n",
    "                            },\n",
    "        }"
   ]
  },
  {
   "cell_type": "markdown",
   "id": "cc624c08-92d7-473f-b24c-1e63ef50e340",
   "metadata": {
    "pycharm": {
     "name": "#%% md\n"
    }
   },
   "source": [
    "### Priors config"
   ]
  },
  {
   "cell_type": "code",
   "execution_count": null,
   "id": "a77b6620",
   "metadata": {},
   "outputs": [],
   "source": [
    "priors_config  = [\n",
    "                #(\"UniformArityPrior\", None),\n",
    "                # LENGTH RELATED\n",
    "                (\"HardLengthPrior\"  , {\"min_length\": 4, \"max_length\": MAX_LENGTH, }),\n",
    "                (\"SoftLengthPrior\"  , {\"length_loc\": 8, \"scale\": 5, }),\n",
    "                # RELATIONSHIPS RELATED\n",
    "                (\"NoUselessInversePrior\"  , None),\n",
    "                (\"PhysicalUnitsPrior\", {\"prob_eps\": np.finfo(np.float32).eps}), # PHYSICALITY\n",
    "                # (\"NestedFunctions\", {\"functions\":[\"exp\", ], \"max_nesting\" : 1}),\n",
    "                # (\"NestedFunctions\", {\"functions\":[\"log\",], \"max_nesting\" : 1}),\n",
    "                # (\"NestedTrigonometryPrior\", {\"max_nesting\" : 1}), # 嵌套次数\n",
    "                # (\"OccurrencesPrior\", {\"targets\" : [\"nu\",], \"max\" : [2,] }), # 最大出现次数\n",
    "                 ]"
   ]
  },
  {
   "cell_type": "markdown",
   "id": "85f08d15-7325-4841-aebe-016a4f2978a8",
   "metadata": {
    "pycharm": {
     "name": "#%% md\n"
    }
   },
   "source": [
    "### Cell config"
   ]
  },
  {
   "cell_type": "code",
   "execution_count": null,
   "id": "e433da57",
   "metadata": {
    "collapsed": false,
    "jupyter": {
     "outputs_hidden": false
    },
    "pycharm": {
     "name": "#%%\n"
    }
   },
   "outputs": [],
   "source": [
    "cell_config = {\n",
    "    \"hidden_size\" : 128,\n",
    "    \"n_layers\"    : 1,\n",
    "    \"is_lobotomized\" : False,\n",
    "}"
   ]
  },
  {
   "cell_type": "markdown",
   "id": "39e90708",
   "metadata": {
    "pycharm": {
     "name": "#%% md\n"
    }
   },
   "source": [
    "### Logger"
   ]
  },
  {
   "cell_type": "code",
   "execution_count": null,
   "id": "13405809",
   "metadata": {
    "collapsed": false,
    "jupyter": {
     "outputs_hidden": false
    },
    "pycharm": {
     "name": "#%%\n"
    }
   },
   "outputs": [],
   "source": [
    "run_logger = []\n",
    "run_visualiser = []\n",
    "\n",
    "for i in range(len(index)):\n",
    "    save_path_training_curves = 'RS_curves_' + str(index[i]) + '.png'\n",
    "    save_path_log             = 'RS_' + str(index[i]) + '.log'\n",
    "\n",
    "    run_logger.append(monitoring.RunLogger(save_path = save_path_log, \n",
    "                                      do_save = False,\n",
    "                                      ))\n",
    "\n",
    "    run_visualiser.append(monitoring.RunVisualiser (epoch_refresh_rate = 5,\n",
    "                                           save_path = save_path_training_curves,\n",
    "                                           do_show   = True,\n",
    "                                           do_prints = True,\n",
    "                                           do_save   = True, \n",
    "                                           ))"
   ]
  },
  {
   "cell_type": "markdown",
   "id": "400eb0d0",
   "metadata": {
    "pycharm": {
     "name": "#%% md\n"
    }
   },
   "source": [
    "### Run config"
   ]
  },
  {
   "cell_type": "code",
   "execution_count": null,
   "id": "2648c799",
   "metadata": {
    "collapsed": false,
    "jupyter": {
     "outputs_hidden": false
    },
    "pycharm": {
     "name": "#%%\n"
    }
   },
   "outputs": [],
   "source": [
    "run_config = []\n",
    "for i in range(len(index)):\n",
    "    run_config.append({\n",
    "        \"learning_config\"      : learning_config,\n",
    "        \"reward_config\"        : reward_config,\n",
    "        \"free_const_opti_args\" : free_const_opti_args,\n",
    "        \"library_config\"       : library_config,\n",
    "        \"priors_config\"        : priors_config,\n",
    "        \"cell_config\"          : cell_config,\n",
    "        \"run_logger\"           : run_logger[i],\n",
    "        \"run_visualiser\"       : run_visualiser[i],\n",
    "    })"
   ]
  },
  {
   "cell_type": "markdown",
   "id": "6499d575",
   "metadata": {
    "pycharm": {
     "name": "#%% md\n"
    }
   },
   "source": [
    "## Learning equations"
   ]
  },
  {
   "cell_type": "code",
   "execution_count": null,
   "id": "264e4870",
   "metadata": {
    "collapsed": false,
    "jupyter": {
     "outputs_hidden": false
    },
    "pycharm": {
     "name": "#%%\n"
    },
    "scrolled": true,
    "tags": []
   },
   "outputs": [],
   "source": [
    "for i in range(len(index)):\n",
    "    benchmark.dummy_epoch(X, y[:, i], run_config[i]) # Dummy epoch for prior tuning\n",
    "    rewards, candidates = physo.fit (X, y[:, i], run_config[i],\n",
    "                                    stop_reward = 0.9999, \n",
    "                                    stop_after_n_epochs = 5)"
   ]
  }
 ],
 "metadata": {
  "kernelspec": {
   "display_name": "PhySO",
   "language": "python",
   "name": "python3"
  },
  "language_info": {
   "codemirror_mode": {
    "name": "ipython",
    "version": 3
   },
   "file_extension": ".py",
   "mimetype": "text/x-python",
   "name": "python",
   "nbconvert_exporter": "python",
   "pygments_lexer": "ipython3",
   "version": "3.8.15"
  }
 },
 "nbformat": 4,
 "nbformat_minor": 5
}
